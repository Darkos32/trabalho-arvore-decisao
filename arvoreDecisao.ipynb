{
 "cells": [
  {
   "cell_type": "markdown",
   "metadata": {},
   "source": [
    "Imports necessários\n"
   ]
  },
  {
   "cell_type": "code",
   "execution_count": 165,
   "metadata": {},
   "outputs": [],
   "source": [
    "import pandas as pd\n",
    "import matplotlib.pyplot as plt\n",
    "from sklearn.tree import DecisionTreeClassifier\n",
    "from sklearn import metrics\n",
    "from sklearn.model_selection import train_test_split,KFold"
   ]
  },
  {
   "cell_type": "markdown",
   "metadata": {},
   "source": [
    "Import do Dataset"
   ]
  },
  {
   "cell_type": "code",
   "execution_count": 166,
   "metadata": {},
   "outputs": [],
   "source": [
    "# Nome das colunas\n",
    "colunas = ['ph', 'hardness', 'solids', 'chloramines', 'sulfate',\n",
    "           'conductivity', 'organic_carbon', 'trihalomethanes', 'turbidity', 'potability']\n",
    "# Import do csv\n",
    "dataset = pd.read_csv(\"water_potability.csv\", header=None, names=colunas)\n",
    "# Limpando o Dataset\n",
    "dataset = dataset.dropna()\n",
    "# Separação dos atributos\n",
    "X = dataset[['ph', 'hardness', 'solids', 'chloramines', 'sulfate',\n",
    "             'conductivity', 'organic_carbon', 'trihalomethanes', 'turbidity']]\n",
    "Y = dataset.potability\n"
   ]
  },
  {
   "cell_type": "code",
   "execution_count": 167,
   "metadata": {},
   "outputs": [],
   "source": [
    "kf = KFold(n_splits=10)"
   ]
  },
  {
   "cell_type": "code",
   "execution_count": 168,
   "metadata": {},
   "outputs": [],
   "source": [
    "def especificidade(matriz):\n",
    "    v_N = matriz[0,1]\n",
    "    N = matriz[0,1]+matriz[1,1]\n",
    "    return v_N/N"
   ]
  },
  {
   "cell_type": "code",
   "execution_count": 169,
   "metadata": {},
   "outputs": [
    {
     "name": "stdout",
     "output_type": "stream",
     "text": [
      "0.717391304347826\n",
      "0.625\n",
      "0.5230769230769231\n",
      "0.5064935064935064\n",
      "0.43\n",
      "0.6704545454545454\n",
      "0.6989247311827957\n",
      "0.43037974683544306\n",
      "0.4\n",
      "0.43209876543209874\n"
     ]
    }
   ],
   "source": [
    "clf = DecisionTreeClassifier(criterion=\"entropy\")\n",
    "acuracias= []\n",
    "for train, test in kf.split(X=X, y=Y):\n",
    "    X_train = X.iloc[train]\n",
    "    Y_train = Y.iloc[train]\n",
    "    X_test = X.iloc[test]\n",
    "    Y_test = Y.iloc[test]\n",
    "    clf.fit(X_train,Y_train)\n",
    "    Y_pred = clf.predict(X_test)\n",
    "    acuracias.append( metrics.accuracy_score(Y_test,Y_pred))\n",
    "    print(especificidade(metrics.confusion_matrix(Y_test,Y_pred)))"
   ]
  },
  {
   "cell_type": "code",
   "execution_count": 170,
   "metadata": {},
   "outputs": [],
   "source": [
    "def soma_array(array):\n",
    "    soma = 0\n",
    "    for i in array:\n",
    "        soma+=i\n",
    "    return soma"
   ]
  },
  {
   "cell_type": "code",
   "execution_count": 171,
   "metadata": {},
   "outputs": [],
   "source": [
    "def repeat_array(item,tam):\n",
    "    array = []\n",
    "    for i in range(0,tam):\n",
    "        array.append(item)\n",
    "    return array"
   ]
  },
  {
   "cell_type": "code",
   "execution_count": 172,
   "metadata": {},
   "outputs": [
    {
     "data": {
      "text/plain": [
       "<matplotlib.collections.PathCollection at 0x25b04e5a650>"
      ]
     },
     "execution_count": 172,
     "metadata": {},
     "output_type": "execute_result"
    },
    {
     "data": {
      "image/png": "[encoded data removed]",
      "text/plain": [
       "<Figure size 432x288 with 1 Axes>"
      ]
     },
     "metadata": {
      "needs_background": "light"
     },
     "output_type": "display_data"
    }
   ],
   "source": [
    "\n",
    "media  = soma_array(acuracias)/len(acuracias)\n",
    "medias  = repeat_array(media,10)\n",
    "plt.plot(range(1,11),medias,'r--')\n",
    "plt.scatter(range(1,11),acuracias)\n"
   ]
  }
 ],
 "metadata": {
  "interpreter": {
   "hash": "814157272c5e01e81420110c3f9254d85adb1c5512818b291e0af3c3f8f75c4e"
  },
  "kernelspec": {
   "display_name": "Python 3.10.0 64-bit",
   "language": "python",
   "name": "python3"
  },
  "language_info": {
   "codemirror_mode": {
    "name": "ipython",
    "version": 3
   },
   "file_extension": ".py",
   "mimetype": "text/x-python",
   "name": "python",
   "nbconvert_exporter": "python",
   "pygments_lexer": "ipython3",
   "version": "3.10.0"
  },
  "orig_nbformat": 4
 },
 "nbformat": 4,
 "nbformat_minor": 2
}
